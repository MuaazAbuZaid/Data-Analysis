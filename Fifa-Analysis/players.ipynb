{
 "cells": [
  {
   "cell_type": "code",
   "execution_count": 1,
   "metadata": {},
   "outputs": [],
   "source": [
    "import numpy as np\n",
    "import pandas as pd\n",
    "import plotly.express as px"
   ]
  },
  {
   "cell_type": "code",
   "execution_count": 2,
   "metadata": {},
   "outputs": [],
   "source": [
    "df = pd.read_csv('players_main_specs.csv')"
   ]
  },
  {
   "cell_type": "code",
   "execution_count": 3,
   "metadata": {},
   "outputs": [
    {
     "name": "stdout",
     "output_type": "stream",
     "text": [
      "(90589, 19)\n"
     ]
    },
    {
     "data": {
      "text/html": [
       "<div>\n",
       "<style scoped>\n",
       "    .dataframe tbody tr th:only-of-type {\n",
       "        vertical-align: middle;\n",
       "    }\n",
       "\n",
       "    .dataframe tbody tr th {\n",
       "        vertical-align: top;\n",
       "    }\n",
       "\n",
       "    .dataframe thead th {\n",
       "        text-align: right;\n",
       "    }\n",
       "</style>\n",
       "<table border=\"1\" class=\"dataframe\">\n",
       "  <thead>\n",
       "    <tr style=\"text-align: right;\">\n",
       "      <th></th>\n",
       "      <th>full_name</th>\n",
       "      <th>overall_rating</th>\n",
       "      <th>potential</th>\n",
       "      <th>value</th>\n",
       "      <th>wage</th>\n",
       "      <th>club</th>\n",
       "      <th>league</th>\n",
       "      <th>position</th>\n",
       "      <th>preferred_foot</th>\n",
       "      <th>skill_moves</th>\n",
       "      <th>week_foot</th>\n",
       "      <th>international_reputation</th>\n",
       "      <th>release_clause</th>\n",
       "      <th>id</th>\n",
       "      <th>work_rate</th>\n",
       "      <th>body_type</th>\n",
       "      <th>joined</th>\n",
       "      <th>contract_valid_until</th>\n",
       "      <th>birthdate_heigt_weight</th>\n",
       "    </tr>\n",
       "  </thead>\n",
       "  <tbody>\n",
       "    <tr>\n",
       "      <th>0</th>\n",
       "      <td>Rasmus Winther Højlund</td>\n",
       "      <td>77</td>\n",
       "      <td>89</td>\n",
       "      <td>€25.5M</td>\n",
       "      <td>€77K</td>\n",
       "      <td>Manchester United</td>\n",
       "      <td>Premier League</td>\n",
       "      <td>ST</td>\n",
       "      <td>Left</td>\n",
       "      <td>3</td>\n",
       "      <td>3</td>\n",
       "      <td>1</td>\n",
       "      <td>€53.6M</td>\n",
       "      <td>259399.0</td>\n",
       "      <td>Medium/ High</td>\n",
       "      <td>Normal (185+)</td>\n",
       "      <td>Aug 5, 2023</td>\n",
       "      <td>2028</td>\n",
       "      <td>20y.o. (Feb 4, 2003) 191cm / 6'3\" 79kg / 174lbs</td>\n",
       "    </tr>\n",
       "    <tr>\n",
       "      <th>1</th>\n",
       "      <td>Joe Worrall</td>\n",
       "      <td>74</td>\n",
       "      <td>76</td>\n",
       "      <td>€4.6M</td>\n",
       "      <td>€45K</td>\n",
       "      <td>Nottingham Forest</td>\n",
       "      <td>Premier League</td>\n",
       "      <td>CB</td>\n",
       "      <td>Right</td>\n",
       "      <td>2</td>\n",
       "      <td>2</td>\n",
       "      <td>1</td>\n",
       "      <td>€9.1M</td>\n",
       "      <td>230708.0</td>\n",
       "      <td>Medium/ High</td>\n",
       "      <td>Normal (185+)</td>\n",
       "      <td>Jul 1, 2015</td>\n",
       "      <td>2024</td>\n",
       "      <td>26y.o. (Jan 10, 1997) 190cm / 6'3\" 90kg / 198lbs</td>\n",
       "    </tr>\n",
       "    <tr>\n",
       "      <th>2</th>\n",
       "      <td>Kobbie Mainoo</td>\n",
       "      <td>67</td>\n",
       "      <td>87</td>\n",
       "      <td>€2.7M</td>\n",
       "      <td>€8K</td>\n",
       "      <td>Manchester United</td>\n",
       "      <td>Premier League</td>\n",
       "      <td>CDM</td>\n",
       "      <td>Right</td>\n",
       "      <td>3</td>\n",
       "      <td>2</td>\n",
       "      <td>1</td>\n",
       "      <td>€7.8M</td>\n",
       "      <td>269136.0</td>\n",
       "      <td>High/ High</td>\n",
       "      <td>Lean (170-185)</td>\n",
       "      <td>May 16, 2022</td>\n",
       "      <td>2027</td>\n",
       "      <td>18y.o. (Apr 19, 2005) 184cm / 6'0\" 80kg / 176lbs</td>\n",
       "    </tr>\n",
       "    <tr>\n",
       "      <th>3</th>\n",
       "      <td>Florentino Ibrain Morris Luís</td>\n",
       "      <td>80</td>\n",
       "      <td>85</td>\n",
       "      <td>€29M</td>\n",
       "      <td>€14K</td>\n",
       "      <td>Benfica</td>\n",
       "      <td>Primeira Liga</td>\n",
       "      <td>CDM</td>\n",
       "      <td>Right</td>\n",
       "      <td>3</td>\n",
       "      <td>2</td>\n",
       "      <td>1</td>\n",
       "      <td>€60.2M</td>\n",
       "      <td>234569.0</td>\n",
       "      <td>Medium/ High</td>\n",
       "      <td>Lean (170-185)</td>\n",
       "      <td>Jul 1, 2017</td>\n",
       "      <td>2027</td>\n",
       "      <td>23y.o. (Aug 19, 1999) 184cm / 6'0\" 74kg / 163lbs</td>\n",
       "    </tr>\n",
       "    <tr>\n",
       "      <th>4</th>\n",
       "      <td>João Pedro Gonçalves Neves</td>\n",
       "      <td>73</td>\n",
       "      <td>87</td>\n",
       "      <td>€7M</td>\n",
       "      <td>€4K</td>\n",
       "      <td>Benfica</td>\n",
       "      <td>Primeira Liga</td>\n",
       "      <td>CM</td>\n",
       "      <td>Right</td>\n",
       "      <td>3</td>\n",
       "      <td>3</td>\n",
       "      <td>1</td>\n",
       "      <td>€18.4M</td>\n",
       "      <td>272834.0</td>\n",
       "      <td>Medium/ Medium</td>\n",
       "      <td>Normal (170-185)</td>\n",
       "      <td>Jul 1, 2022</td>\n",
       "      <td>2028</td>\n",
       "      <td>18y.o. (Sep 27, 2004) 174cm / 5'9\" 66kg / 146lbs</td>\n",
       "    </tr>\n",
       "  </tbody>\n",
       "</table>\n",
       "</div>"
      ],
      "text/plain": [
       "                       full_name  overall_rating  potential   value  wage  \\\n",
       "0         Rasmus Winther Højlund              77         89  €25.5M  €77K   \n",
       "1                    Joe Worrall              74         76   €4.6M  €45K   \n",
       "2                  Kobbie Mainoo              67         87   €2.7M   €8K   \n",
       "3  Florentino Ibrain Morris Luís              80         85    €29M  €14K   \n",
       "4     João Pedro Gonçalves Neves              73         87     €7M   €4K   \n",
       "\n",
       "                club          league position preferred_foot  skill_moves  \\\n",
       "0  Manchester United  Premier League       ST           Left            3   \n",
       "1  Nottingham Forest  Premier League       CB          Right            2   \n",
       "2  Manchester United  Premier League      CDM          Right            3   \n",
       "3            Benfica   Primeira Liga      CDM          Right            3   \n",
       "4            Benfica   Primeira Liga       CM          Right            3   \n",
       "\n",
       "   week_foot  international_reputation release_clause        id  \\\n",
       "0          3                         1         €53.6M  259399.0   \n",
       "1          2                         1          €9.1M  230708.0   \n",
       "2          2                         1          €7.8M  269136.0   \n",
       "3          2                         1         €60.2M  234569.0   \n",
       "4          3                         1         €18.4M  272834.0   \n",
       "\n",
       "        work_rate         body_type        joined contract_valid_until  \\\n",
       "0    Medium/ High     Normal (185+)   Aug 5, 2023                 2028   \n",
       "1    Medium/ High     Normal (185+)   Jul 1, 2015                 2024   \n",
       "2      High/ High    Lean (170-185)  May 16, 2022                 2027   \n",
       "3    Medium/ High    Lean (170-185)   Jul 1, 2017                 2027   \n",
       "4  Medium/ Medium  Normal (170-185)   Jul 1, 2022                 2028   \n",
       "\n",
       "                             birthdate_heigt_weight  \n",
       "0   20y.o. (Feb 4, 2003) 191cm / 6'3\" 79kg / 174lbs  \n",
       "1  26y.o. (Jan 10, 1997) 190cm / 6'3\" 90kg / 198lbs  \n",
       "2  18y.o. (Apr 19, 2005) 184cm / 6'0\" 80kg / 176lbs  \n",
       "3  23y.o. (Aug 19, 1999) 184cm / 6'0\" 74kg / 163lbs  \n",
       "4  18y.o. (Sep 27, 2004) 174cm / 5'9\" 66kg / 146lbs  "
      ]
     },
     "execution_count": 3,
     "metadata": {},
     "output_type": "execute_result"
    }
   ],
   "source": [
    "print(df.shape)\n",
    "df.head()"
   ]
  },
  {
   "cell_type": "code",
   "execution_count": 4,
   "metadata": {},
   "outputs": [
    {
     "data": {
      "text/plain": [
       "83396"
      ]
     },
     "execution_count": 4,
     "metadata": {},
     "output_type": "execute_result"
    }
   ],
   "source": [
    "df.duplicated().sum()"
   ]
  },
  {
   "cell_type": "code",
   "execution_count": 5,
   "metadata": {},
   "outputs": [],
   "source": [
    "df.drop_duplicates(inplace= True)\n",
    "df.reset_index(drop= True, inplace= True)"
   ]
  },
  {
   "cell_type": "code",
   "execution_count": 6,
   "metadata": {},
   "outputs": [
    {
     "name": "stdout",
     "output_type": "stream",
     "text": [
      "(2518, 19)\n"
     ]
    }
   ],
   "source": [
    "top_5_leagues = ['Premier League', 'Bundesliga', 'La Liga', 'Serie A', 'Ligue 1']\n",
    "top_5_df = df[df.league.isin(top_5_leagues)].reset_index(drop= True)\n",
    "print(top_5_df.shape)"
   ]
  },
  {
   "cell_type": "code",
   "execution_count": 7,
   "metadata": {},
   "outputs": [
    {
     "data": {
      "text/plain": [
       "full_name                     0\n",
       "overall_rating                0\n",
       "potential                     0\n",
       "value                         0\n",
       "wage                          0\n",
       "club                          0\n",
       "league                        0\n",
       "position                      0\n",
       "preferred_foot                0\n",
       "skill_moves                   0\n",
       "week_foot                     0\n",
       "international_reputation      0\n",
       "release_clause                2\n",
       "id                          236\n",
       "work_rate                     0\n",
       "body_type                     0\n",
       "joined                      211\n",
       "contract_valid_until          3\n",
       "birthdate_heigt_weight        0\n",
       "dtype: int64"
      ]
     },
     "execution_count": 7,
     "metadata": {},
     "output_type": "execute_result"
    }
   ],
   "source": [
    "top_5_df.isnull().sum()"
   ]
  },
  {
   "cell_type": "code",
   "execution_count": 8,
   "metadata": {},
   "outputs": [],
   "source": [
    "top_5_df.dropna(inplace= True)\n",
    "top_5_df.reset_index(inplace= True, drop= True)"
   ]
  },
  {
   "cell_type": "code",
   "execution_count": 9,
   "metadata": {},
   "outputs": [
    {
     "name": "stdout",
     "output_type": "stream",
     "text": [
      "<class 'pandas.core.frame.DataFrame'>\n",
      "RangeIndex: 2282 entries, 0 to 2281\n",
      "Data columns (total 19 columns):\n",
      " #   Column                    Non-Null Count  Dtype  \n",
      "---  ------                    --------------  -----  \n",
      " 0   full_name                 2282 non-null   object \n",
      " 1   overall_rating            2282 non-null   int64  \n",
      " 2   potential                 2282 non-null   int64  \n",
      " 3   value                     2282 non-null   object \n",
      " 4   wage                      2282 non-null   object \n",
      " 5   club                      2282 non-null   object \n",
      " 6   league                    2282 non-null   object \n",
      " 7   position                  2282 non-null   object \n",
      " 8   preferred_foot            2282 non-null   object \n",
      " 9   skill_moves               2282 non-null   int64  \n",
      " 10  week_foot                 2282 non-null   int64  \n",
      " 11  international_reputation  2282 non-null   int64  \n",
      " 12  release_clause            2282 non-null   object \n",
      " 13  id                        2282 non-null   float64\n",
      " 14  work_rate                 2282 non-null   object \n",
      " 15  body_type                 2282 non-null   object \n",
      " 16  joined                    2282 non-null   object \n",
      " 17  contract_valid_until      2282 non-null   object \n",
      " 18  birthdate_heigt_weight    2282 non-null   object \n",
      "dtypes: float64(1), int64(5), object(13)\n",
      "memory usage: 338.9+ KB\n"
     ]
    }
   ],
   "source": [
    "top_5_df.info()"
   ]
  },
  {
   "cell_type": "code",
   "execution_count": 10,
   "metadata": {},
   "outputs": [
    {
     "data": {
      "text/plain": [
       "(2282, 19)"
      ]
     },
     "execution_count": 10,
     "metadata": {},
     "output_type": "execute_result"
    }
   ],
   "source": [
    "top_5_df.shape"
   ]
  },
  {
   "cell_type": "code",
   "execution_count": 11,
   "metadata": {},
   "outputs": [
    {
     "data": {
      "text/html": [
       "<div>\n",
       "<style scoped>\n",
       "    .dataframe tbody tr th:only-of-type {\n",
       "        vertical-align: middle;\n",
       "    }\n",
       "\n",
       "    .dataframe tbody tr th {\n",
       "        vertical-align: top;\n",
       "    }\n",
       "\n",
       "    .dataframe thead th {\n",
       "        text-align: right;\n",
       "    }\n",
       "</style>\n",
       "<table border=\"1\" class=\"dataframe\">\n",
       "  <thead>\n",
       "    <tr style=\"text-align: right;\">\n",
       "      <th></th>\n",
       "      <th>full_name</th>\n",
       "      <th>overall_rating</th>\n",
       "      <th>potential</th>\n",
       "      <th>value</th>\n",
       "      <th>wage</th>\n",
       "      <th>club</th>\n",
       "      <th>league</th>\n",
       "      <th>position</th>\n",
       "      <th>preferred_foot</th>\n",
       "      <th>skill_moves</th>\n",
       "      <th>week_foot</th>\n",
       "      <th>international_reputation</th>\n",
       "      <th>release_clause</th>\n",
       "      <th>id</th>\n",
       "      <th>work_rate</th>\n",
       "      <th>body_type</th>\n",
       "      <th>joined</th>\n",
       "      <th>contract_valid_until</th>\n",
       "      <th>birthdate_heigt_weight</th>\n",
       "    </tr>\n",
       "  </thead>\n",
       "  <tbody>\n",
       "    <tr>\n",
       "      <th>0</th>\n",
       "      <td>Rasmus Winther Højlund</td>\n",
       "      <td>77</td>\n",
       "      <td>89</td>\n",
       "      <td>€25.5M</td>\n",
       "      <td>€77K</td>\n",
       "      <td>Manchester United</td>\n",
       "      <td>Premier League</td>\n",
       "      <td>ST</td>\n",
       "      <td>Left</td>\n",
       "      <td>3</td>\n",
       "      <td>3</td>\n",
       "      <td>1</td>\n",
       "      <td>€53.6M</td>\n",
       "      <td>259399.0</td>\n",
       "      <td>Medium/ High</td>\n",
       "      <td>Normal (185+)</td>\n",
       "      <td>Aug 5, 2023</td>\n",
       "      <td>2028</td>\n",
       "      <td>20y.o. (Feb 4, 2003) 191cm / 6'3\" 79kg / 174lbs</td>\n",
       "    </tr>\n",
       "  </tbody>\n",
       "</table>\n",
       "</div>"
      ],
      "text/plain": [
       "                full_name  overall_rating  potential   value  wage  \\\n",
       "0  Rasmus Winther Højlund              77         89  €25.5M  €77K   \n",
       "\n",
       "                club          league position preferred_foot  skill_moves  \\\n",
       "0  Manchester United  Premier League       ST           Left            3   \n",
       "\n",
       "   week_foot  international_reputation release_clause        id     work_rate  \\\n",
       "0          3                         1         €53.6M  259399.0  Medium/ High   \n",
       "\n",
       "       body_type       joined contract_valid_until  \\\n",
       "0  Normal (185+)  Aug 5, 2023                 2028   \n",
       "\n",
       "                            birthdate_heigt_weight  \n",
       "0  20y.o. (Feb 4, 2003) 191cm / 6'3\" 79kg / 174lbs  "
      ]
     },
     "execution_count": 11,
     "metadata": {},
     "output_type": "execute_result"
    }
   ],
   "source": [
    "top_5_df.head(1)"
   ]
  },
  {
   "cell_type": "code",
   "execution_count": 12,
   "metadata": {},
   "outputs": [],
   "source": [
    "def extract_money(x):\n",
    "    if x.endswith('M'):\n",
    "        x = (10 ** 6) * float(x[1:-1])\n",
    "        return x\n",
    "    elif x.endswith('K'):\n",
    "        x = (10 ** 3) * float(x[1:-1])\n",
    "        return x\n",
    "    else:\n",
    "        x = float(x[1:])\n",
    "        return x"
   ]
  },
  {
   "cell_type": "code",
   "execution_count": 13,
   "metadata": {},
   "outputs": [],
   "source": [
    "top_5_df.value = top_5_df.value.apply(extract_money)\n",
    "top_5_df.wage = top_5_df.wage.apply(extract_money)\n",
    "top_5_df.release_clause = top_5_df.release_clause.apply(extract_money)\n",
    "top_5_df.id = top_5_df.id.astype('object')\n",
    "top_5_df.joined = pd.to_datetime(top_5_df.joined)\n",
    "top_5_df.contract_valid_until = top_5_df.contract_valid_until.astype('int')"
   ]
  },
  {
   "cell_type": "code",
   "execution_count": 14,
   "metadata": {},
   "outputs": [
    {
     "name": "stdout",
     "output_type": "stream",
     "text": [
      "Premier League:  (602, 19)\n",
      "La Liga:  (458, 19)\n",
      "Serie A:  (393, 19)\n",
      "Bundesliga:  (474, 19)\n",
      "Ligue 1:  (355, 19)\n"
     ]
    }
   ],
   "source": [
    "premleague = top_5_df[top_5_df.league == 'Premier League'].reset_index(drop= True)\n",
    "print('Premier League: ', premleague.shape)\n",
    "laliga = top_5_df[top_5_df.league == 'La Liga'].reset_index(drop= True)\n",
    "print('La Liga: ', laliga.shape)\n",
    "seriea = top_5_df[top_5_df.league == 'Serie A'].reset_index(drop= True)\n",
    "print('Serie A: ', seriea.shape)\n",
    "bundesliga = top_5_df[top_5_df.league == 'Bundesliga'].reset_index(drop= True)\n",
    "print('Bundesliga: ', bundesliga.shape)\n",
    "ligue1 = top_5_df[top_5_df.league == 'Ligue 1'].reset_index(drop= True)\n",
    "print('Ligue 1: ', ligue1.shape)"
   ]
  },
  {
   "cell_type": "code",
   "execution_count": 15,
   "metadata": {},
   "outputs": [],
   "source": [
    "premleague_clubs = pd.read_csv('premier_clubs.csv')\n",
    "laliga_clubs = pd.read_csv('laliga_clubs.csv')\n",
    "seriea_clubs = pd.read_csv('seriea_clubs.csv')\n",
    "bundesliga_clubs = pd.read_csv('bundes_clubs.csv')\n",
    "ligue1_clubs = pd.read_csv('ligue1_clubs.csv')"
   ]
  },
  {
   "cell_type": "code",
   "execution_count": 16,
   "metadata": {},
   "outputs": [
    {
     "name": "stdout",
     "output_type": "stream",
     "text": [
      "Premier League:  (569, 19)\n",
      "La Liga:  (453, 19)\n",
      "Serie A:  (386, 19)\n",
      "Bundesliga:  (391, 19)\n",
      "Ligue 1:  (331, 19)\n"
     ]
    }
   ],
   "source": [
    "premleague = premleague[premleague.club.isin(premleague_clubs.club.unique())]\n",
    "print('Premier League: ', premleague.shape)\n",
    "laliga = laliga[laliga.club.isin(laliga_clubs.club.unique())]\n",
    "print('La Liga: ', laliga.shape)\n",
    "seriea = seriea[seriea.club.isin(seriea_clubs.club.unique())]\n",
    "print('Serie A: ', seriea.shape)\n",
    "bundesliga = bundesliga[bundesliga.club.isin(bundesliga_clubs.club.unique())]\n",
    "print('Bundesliga: ', bundesliga.shape)\n",
    "ligue1 = ligue1[ligue1.club.isin(ligue1_clubs.club.unique())]\n",
    "print('Ligue 1: ', ligue1.shape)"
   ]
  },
  {
   "cell_type": "code",
   "execution_count": 17,
   "metadata": {},
   "outputs": [
    {
     "data": {
      "text/plain": [
       "(2282, 19)"
      ]
     },
     "execution_count": 17,
     "metadata": {},
     "output_type": "execute_result"
    }
   ],
   "source": [
    "top_5_df.shape"
   ]
  },
  {
   "cell_type": "code",
   "execution_count": 18,
   "metadata": {},
   "outputs": [],
   "source": [
    "top_5_df = pd.concat([premleague, laliga, bundesliga, ligue1, seriea], axis= 0)\n",
    "top_5_df.reset_index(inplace= True, drop= True)"
   ]
  },
  {
   "cell_type": "code",
   "execution_count": 19,
   "metadata": {},
   "outputs": [
    {
     "data": {
      "text/plain": [
       "(2130, 19)"
      ]
     },
     "execution_count": 19,
     "metadata": {},
     "output_type": "execute_result"
    }
   ],
   "source": [
    "top_5_df.shape"
   ]
  },
  {
   "cell_type": "code",
   "execution_count": 20,
   "metadata": {},
   "outputs": [
    {
     "data": {
      "text/plain": [
       "0"
      ]
     },
     "execution_count": 20,
     "metadata": {},
     "output_type": "execute_result"
    }
   ],
   "source": [
    "top_5_df.duplicated().sum()"
   ]
  },
  {
   "cell_type": "code",
   "execution_count": 21,
   "metadata": {},
   "outputs": [
    {
     "data": {
      "text/plain": [
       "full_name                   0\n",
       "overall_rating              0\n",
       "potential                   0\n",
       "value                       0\n",
       "wage                        0\n",
       "club                        0\n",
       "league                      0\n",
       "position                    0\n",
       "preferred_foot              0\n",
       "skill_moves                 0\n",
       "week_foot                   0\n",
       "international_reputation    0\n",
       "release_clause              0\n",
       "id                          0\n",
       "work_rate                   0\n",
       "body_type                   0\n",
       "joined                      0\n",
       "contract_valid_until        0\n",
       "birthdate_heigt_weight      0\n",
       "dtype: int64"
      ]
     },
     "execution_count": 21,
     "metadata": {},
     "output_type": "execute_result"
    }
   ],
   "source": [
    "top_5_df.isnull().sum()"
   ]
  },
  {
   "cell_type": "code",
   "execution_count": 22,
   "metadata": {},
   "outputs": [
    {
     "name": "stdout",
     "output_type": "stream",
     "text": [
      "<class 'pandas.core.frame.DataFrame'>\n",
      "RangeIndex: 2130 entries, 0 to 2129\n",
      "Data columns (total 19 columns):\n",
      " #   Column                    Non-Null Count  Dtype         \n",
      "---  ------                    --------------  -----         \n",
      " 0   full_name                 2130 non-null   object        \n",
      " 1   overall_rating            2130 non-null   int64         \n",
      " 2   potential                 2130 non-null   int64         \n",
      " 3   value                     2130 non-null   float64       \n",
      " 4   wage                      2130 non-null   float64       \n",
      " 5   club                      2130 non-null   object        \n",
      " 6   league                    2130 non-null   object        \n",
      " 7   position                  2130 non-null   object        \n",
      " 8   preferred_foot            2130 non-null   object        \n",
      " 9   skill_moves               2130 non-null   int64         \n",
      " 10  week_foot                 2130 non-null   int64         \n",
      " 11  international_reputation  2130 non-null   int64         \n",
      " 12  release_clause            2130 non-null   float64       \n",
      " 13  id                        2130 non-null   object        \n",
      " 14  work_rate                 2130 non-null   object        \n",
      " 15  body_type                 2130 non-null   object        \n",
      " 16  joined                    2130 non-null   datetime64[ns]\n",
      " 17  contract_valid_until      2130 non-null   int32         \n",
      " 18  birthdate_heigt_weight    2130 non-null   object        \n",
      "dtypes: datetime64[ns](1), float64(3), int32(1), int64(5), object(9)\n",
      "memory usage: 308.0+ KB\n"
     ]
    }
   ],
   "source": [
    "top_5_df.info()"
   ]
  },
  {
   "cell_type": "code",
   "execution_count": 23,
   "metadata": {},
   "outputs": [
    {
     "data": {
      "text/plain": [
       "'20y.o. (Feb 4, 2003) 191cm / 6\\'3\" 79kg / 174lbs'"
      ]
     },
     "execution_count": 23,
     "metadata": {},
     "output_type": "execute_result"
    }
   ],
   "source": [
    "sample = df.loc[0, 'birthdate_heigt_weight']\n",
    "sample"
   ]
  },
  {
   "cell_type": "code",
   "execution_count": 24,
   "metadata": {},
   "outputs": [
    {
     "data": {
      "text/plain": [
       "'191'"
      ]
     },
     "execution_count": 24,
     "metadata": {},
     "output_type": "execute_result"
    }
   ],
   "source": [
    "sample.split(\"cm\")[0].split()[-1]"
   ]
  },
  {
   "cell_type": "code",
   "execution_count": 25,
   "metadata": {},
   "outputs": [],
   "source": [
    "def ext_features(x):\n",
    "    age = int(x.split('y')[0])\n",
    "    birthdate = pd.to_datetime(x.split(\"(\")[1].split(\")\")[0])\n",
    "    height = int(x.split(\"cm\")[0].split()[-1])\n",
    "    weight = int(x.split(\"kg\")[0].split()[-1])\n",
    "    return pd.Series((age, birthdate, height, weight))"
   ]
  },
  {
   "cell_type": "code",
   "execution_count": 26,
   "metadata": {},
   "outputs": [],
   "source": [
    "top_5_df[['age', 'birthdate', 'height', 'weight']] = df.birthdate_heigt_weight.apply(ext_features)\n",
    "top_5_df.drop('birthdate_heigt_weight', axis= 1, inplace= True)\n",
    "top_5_df.reset_index(drop= True, inplace= True)"
   ]
  },
  {
   "cell_type": "code",
   "execution_count": 27,
   "metadata": {},
   "outputs": [
    {
     "data": {
      "text/plain": [
       "['Premier League', 'Bundesliga', 'La Liga', 'Serie A', 'Ligue 1']"
      ]
     },
     "execution_count": 27,
     "metadata": {},
     "output_type": "execute_result"
    }
   ],
   "source": [
    "top_5_leagues"
   ]
  },
  {
   "cell_type": "code",
   "execution_count": 28,
   "metadata": {},
   "outputs": [],
   "source": [
    "countries_dist = {\n",
    "    'Premier League': 'England',\n",
    "    'Bundesliga': 'Germany',\n",
    "    'La Liga': 'Spain',\n",
    "    'Serie A': 'Italy',\n",
    "    'Ligue 1': 'France'\n",
    "}"
   ]
  },
  {
   "cell_type": "code",
   "execution_count": 29,
   "metadata": {},
   "outputs": [],
   "source": [
    "top_5_df['country'] = top_5_df.league.map(countries_dist)"
   ]
  },
  {
   "cell_type": "code",
   "execution_count": 30,
   "metadata": {},
   "outputs": [
    {
     "data": {
      "text/html": [
       "<div>\n",
       "<style scoped>\n",
       "    .dataframe tbody tr th:only-of-type {\n",
       "        vertical-align: middle;\n",
       "    }\n",
       "\n",
       "    .dataframe tbody tr th {\n",
       "        vertical-align: top;\n",
       "    }\n",
       "\n",
       "    .dataframe thead th {\n",
       "        text-align: right;\n",
       "    }\n",
       "</style>\n",
       "<table border=\"1\" class=\"dataframe\">\n",
       "  <thead>\n",
       "    <tr style=\"text-align: right;\">\n",
       "      <th></th>\n",
       "      <th>full_name</th>\n",
       "      <th>overall_rating</th>\n",
       "      <th>potential</th>\n",
       "      <th>value</th>\n",
       "      <th>wage</th>\n",
       "      <th>club</th>\n",
       "      <th>league</th>\n",
       "      <th>position</th>\n",
       "      <th>preferred_foot</th>\n",
       "      <th>skill_moves</th>\n",
       "      <th>...</th>\n",
       "      <th>id</th>\n",
       "      <th>work_rate</th>\n",
       "      <th>body_type</th>\n",
       "      <th>joined</th>\n",
       "      <th>contract_valid_until</th>\n",
       "      <th>age</th>\n",
       "      <th>birthdate</th>\n",
       "      <th>height</th>\n",
       "      <th>weight</th>\n",
       "      <th>country</th>\n",
       "    </tr>\n",
       "  </thead>\n",
       "  <tbody>\n",
       "    <tr>\n",
       "      <th>0</th>\n",
       "      <td>Rasmus Winther Højlund</td>\n",
       "      <td>77</td>\n",
       "      <td>89</td>\n",
       "      <td>25500000.0</td>\n",
       "      <td>77000.0</td>\n",
       "      <td>Manchester United</td>\n",
       "      <td>Premier League</td>\n",
       "      <td>ST</td>\n",
       "      <td>Left</td>\n",
       "      <td>3</td>\n",
       "      <td>...</td>\n",
       "      <td>259399.0</td>\n",
       "      <td>Medium/ High</td>\n",
       "      <td>Normal (185+)</td>\n",
       "      <td>2023-08-05</td>\n",
       "      <td>2028</td>\n",
       "      <td>20</td>\n",
       "      <td>2003-02-04</td>\n",
       "      <td>191</td>\n",
       "      <td>79</td>\n",
       "      <td>England</td>\n",
       "    </tr>\n",
       "    <tr>\n",
       "      <th>1</th>\n",
       "      <td>Joe Worrall</td>\n",
       "      <td>74</td>\n",
       "      <td>76</td>\n",
       "      <td>4600000.0</td>\n",
       "      <td>45000.0</td>\n",
       "      <td>Nottingham Forest</td>\n",
       "      <td>Premier League</td>\n",
       "      <td>CB</td>\n",
       "      <td>Right</td>\n",
       "      <td>2</td>\n",
       "      <td>...</td>\n",
       "      <td>230708.0</td>\n",
       "      <td>Medium/ High</td>\n",
       "      <td>Normal (185+)</td>\n",
       "      <td>2015-07-01</td>\n",
       "      <td>2024</td>\n",
       "      <td>26</td>\n",
       "      <td>1997-01-10</td>\n",
       "      <td>190</td>\n",
       "      <td>90</td>\n",
       "      <td>England</td>\n",
       "    </tr>\n",
       "  </tbody>\n",
       "</table>\n",
       "<p>2 rows × 23 columns</p>\n",
       "</div>"
      ],
      "text/plain": [
       "                full_name  overall_rating  potential       value     wage  \\\n",
       "0  Rasmus Winther Højlund              77         89  25500000.0  77000.0   \n",
       "1             Joe Worrall              74         76   4600000.0  45000.0   \n",
       "\n",
       "                club          league position preferred_foot  skill_moves  \\\n",
       "0  Manchester United  Premier League       ST           Left            3   \n",
       "1  Nottingham Forest  Premier League       CB          Right            2   \n",
       "\n",
       "   ...        id     work_rate      body_type     joined contract_valid_until  \\\n",
       "0  ...  259399.0  Medium/ High  Normal (185+) 2023-08-05                 2028   \n",
       "1  ...  230708.0  Medium/ High  Normal (185+) 2015-07-01                 2024   \n",
       "\n",
       "  age  birthdate  height  weight  country  \n",
       "0  20 2003-02-04     191      79  England  \n",
       "1  26 1997-01-10     190      90  England  \n",
       "\n",
       "[2 rows x 23 columns]"
      ]
     },
     "execution_count": 30,
     "metadata": {},
     "output_type": "execute_result"
    }
   ],
   "source": [
    "top_5_df.head(2)"
   ]
  },
  {
   "cell_type": "code",
   "execution_count": 31,
   "metadata": {},
   "outputs": [],
   "source": [
    "# top_5_df.to_excel('top_5_leagues.xlsx')"
   ]
  },
  {
   "cell_type": "code",
   "execution_count": 32,
   "metadata": {},
   "outputs": [
    {
     "data": {
      "text/html": [
       "<div>\n",
       "<style scoped>\n",
       "    .dataframe tbody tr th:only-of-type {\n",
       "        vertical-align: middle;\n",
       "    }\n",
       "\n",
       "    .dataframe tbody tr th {\n",
       "        vertical-align: top;\n",
       "    }\n",
       "\n",
       "    .dataframe thead th {\n",
       "        text-align: right;\n",
       "    }\n",
       "</style>\n",
       "<table border=\"1\" class=\"dataframe\">\n",
       "  <thead>\n",
       "    <tr style=\"text-align: right;\">\n",
       "      <th></th>\n",
       "      <th>full_name</th>\n",
       "      <th>overall_rating</th>\n",
       "      <th>potential</th>\n",
       "      <th>value</th>\n",
       "      <th>wage</th>\n",
       "      <th>club</th>\n",
       "      <th>league</th>\n",
       "      <th>position</th>\n",
       "      <th>preferred_foot</th>\n",
       "      <th>skill_moves</th>\n",
       "      <th>...</th>\n",
       "      <th>id</th>\n",
       "      <th>work_rate</th>\n",
       "      <th>body_type</th>\n",
       "      <th>joined</th>\n",
       "      <th>contract_valid_until</th>\n",
       "      <th>age</th>\n",
       "      <th>birthdate</th>\n",
       "      <th>height</th>\n",
       "      <th>weight</th>\n",
       "      <th>country</th>\n",
       "    </tr>\n",
       "  </thead>\n",
       "  <tbody>\n",
       "  </tbody>\n",
       "</table>\n",
       "<p>0 rows × 23 columns</p>\n",
       "</div>"
      ],
      "text/plain": [
       "Empty DataFrame\n",
       "Columns: [full_name, overall_rating, potential, value, wage, club, league, position, preferred_foot, skill_moves, week_foot, international_reputation, release_clause, id, work_rate, body_type, joined, contract_valid_until, age, birthdate, height, weight, country]\n",
       "Index: []\n",
       "\n",
       "[0 rows x 23 columns]"
      ]
     },
     "execution_count": 32,
     "metadata": {},
     "output_type": "execute_result"
    }
   ],
   "source": [
    "top_5_df[top_5_df.country.isnull()]"
   ]
  },
  {
   "cell_type": "code",
   "execution_count": 33,
   "metadata": {},
   "outputs": [
    {
     "name": "stdout",
     "output_type": "stream",
     "text": [
      "<class 'pandas.core.frame.DataFrame'>\n",
      "RangeIndex: 2130 entries, 0 to 2129\n",
      "Data columns (total 23 columns):\n",
      " #   Column                    Non-Null Count  Dtype         \n",
      "---  ------                    --------------  -----         \n",
      " 0   full_name                 2130 non-null   object        \n",
      " 1   overall_rating            2130 non-null   int64         \n",
      " 2   potential                 2130 non-null   int64         \n",
      " 3   value                     2130 non-null   float64       \n",
      " 4   wage                      2130 non-null   float64       \n",
      " 5   club                      2130 non-null   object        \n",
      " 6   league                    2130 non-null   object        \n",
      " 7   position                  2130 non-null   object        \n",
      " 8   preferred_foot            2130 non-null   object        \n",
      " 9   skill_moves               2130 non-null   int64         \n",
      " 10  week_foot                 2130 non-null   int64         \n",
      " 11  international_reputation  2130 non-null   int64         \n",
      " 12  release_clause            2130 non-null   float64       \n",
      " 13  id                        2130 non-null   object        \n",
      " 14  work_rate                 2130 non-null   object        \n",
      " 15  body_type                 2130 non-null   object        \n",
      " 16  joined                    2130 non-null   datetime64[ns]\n",
      " 17  contract_valid_until      2130 non-null   int32         \n",
      " 18  age                       2130 non-null   int64         \n",
      " 19  birthdate                 2130 non-null   datetime64[ns]\n",
      " 20  height                    2130 non-null   int64         \n",
      " 21  weight                    2130 non-null   int64         \n",
      " 22  country                   2130 non-null   object        \n",
      "dtypes: datetime64[ns](2), float64(3), int32(1), int64(8), object(9)\n",
      "memory usage: 374.5+ KB\n"
     ]
    }
   ],
   "source": [
    "top_5_df.info()"
   ]
  },
  {
   "cell_type": "code",
   "execution_count": 34,
   "metadata": {},
   "outputs": [
    {
     "data": {
      "text/plain": [
       "Index(['full_name', 'overall_rating', 'potential', 'value', 'wage', 'club',\n",
       "       'league', 'position', 'preferred_foot', 'skill_moves', 'week_foot',\n",
       "       'international_reputation', 'release_clause', 'id', 'work_rate',\n",
       "       'body_type', 'joined', 'contract_valid_until', 'age', 'birthdate',\n",
       "       'height', 'weight', 'country'],\n",
       "      dtype='object')"
      ]
     },
     "execution_count": 34,
     "metadata": {},
     "output_type": "execute_result"
    }
   ],
   "source": [
    "top_5_df.columns"
   ]
  }
 ],
 "metadata": {
  "kernelspec": {
   "display_name": "Analysis",
   "language": "python",
   "name": "python3"
  },
  "language_info": {
   "codemirror_mode": {
    "name": "ipython",
    "version": 3
   },
   "file_extension": ".py",
   "mimetype": "text/x-python",
   "name": "python",
   "nbconvert_exporter": "python",
   "pygments_lexer": "ipython3",
   "version": "3.10.11"
  }
 },
 "nbformat": 4,
 "nbformat_minor": 2
}
